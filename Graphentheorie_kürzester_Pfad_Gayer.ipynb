{
 "cells": [
  {
   "cell_type": "markdown",
   "metadata": {},
   "source": [
    "## Die Implementierung eines kürzeste-Pfade-Algorithmus : Floyd Warshall"
   ]
  },
  {
   "cell_type": "code",
   "execution_count": 8,
   "metadata": {},
   "outputs": [
    {
     "data": {
      "text/plain": [
       "matrix([[-4., -2., -6., -3.],\n",
       "        [-2., -2., -4., -3.],\n",
       "        [-6., -4., -8., -5.],\n",
       "        [-3., -3., -5., -4.]])"
      ]
     },
     "execution_count": 8,
     "metadata": {},
     "output_type": "execute_result"
    }
   ],
   "source": [
    "import numpy as np\n",
    "from collections import defaultdict\n",
    "\n",
    "#Knoten und Kanten werden definiert\n",
    "nodes = [1, 2, 3, 4]\n",
    "edges = [(1, 3, -2), (3, 4, 2), (4, 2, -1), (2, 3, 3), (2, 1, 4)]\n",
    "\n",
    "\n",
    "#Funktion zur Erstellung der (linked) Liste adjancency_list mit den Knoten und Kanten und gibt somit den Graphen 'graph' zurück\n",
    "\n",
    "def get_adjacency_list(edges):\n",
    "    graph = defaultdict(dict)\n",
    "    for u, v, w in edges:\n",
    "        graph[u].update({v: float(w)})\n",
    "        graph[v].update({u: float(w)})\n",
    "    return graph\n",
    "\n",
    "\n",
    "#Funktion zur Erstllung der Matrix für 'graph':\n",
    "#Aus der adjacency_list die Kanten entnommen und als Gewichte definiert und zur Matrixliste, \n",
    "#dann numpy Matrix hinzugefügt und gibt eine befüllte Matrix zurück. ( Bei unverbunden Knoten weight= numpy.inf)\n",
    "\n",
    "def get_adjacency_matrix(nodes, edges):\n",
    "    adjacency_list = get_adjacency_list(edges)\n",
    "    matrix = []\n",
    "    for node in nodes:\n",
    "        weights = adjacency_list.get(node)\n",
    "        matrix.append([weights.get(v, np.inf) for v in nodes])\n",
    "    matrix = np.matrix(matrix)\n",
    "    np.fill_diagonal(matrix, .0)\n",
    "    return matrix\n",
    "\n",
    "#der Kürzeste-Pfad-Algorhytmus. \n",
    "#Dieser kann nun aus der erstellten numpy matrix \n",
    "#den kürsten Pfad zwischen den Knoten ermitteln\n",
    "def floyd_warshall(adjacency_matrix):\n",
    "    d = adjacency_matrix\n",
    "    N = d.shape[0]\n",
    "    for k in range(N):\n",
    "        d = np.minimum(d, d[:, k] + d[k, :])\n",
    "    return d\n",
    "\n",
    "\n",
    "adjacency_matrix = get_adjacency_matrix(nodes, edges)\n",
    "floyd_warshall(adjacency_matrix)"
   ]
  },
  {
   "cell_type": "code",
   "execution_count": null,
   "metadata": {},
   "outputs": [],
   "source": []
  }
 ],
 "metadata": {
  "kernelspec": {
   "display_name": "Python 3",
   "language": "python",
   "name": "python3"
  },
  "language_info": {
   "codemirror_mode": {
    "name": "ipython",
    "version": 3
   },
   "file_extension": ".py",
   "mimetype": "text/x-python",
   "name": "python",
   "nbconvert_exporter": "python",
   "pygments_lexer": "ipython3",
   "version": "3.8.5"
  }
 },
 "nbformat": 4,
 "nbformat_minor": 4
}
